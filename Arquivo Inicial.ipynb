{
 "cells": [
  {
   "cell_type": "markdown",
   "metadata": {},
   "source": [
    "# pandas - \"A melhor biblioteca do Python para Dados\"\n",
    "\n",
    "- Quase sempre que você for trabalhar com dados no Python você vai usar o pandas, então é importante você saber trabalhar com essa biblioteca muito bem\n",
    "\n",
    "- Vamos aprender os principais comandos e os princípios básicos do pandas\n",
    "\n",
    "- Faça o download do Gabarito desse arquivo e use como uma cartilha de consulta (Link na descrição)"
   ]
  },
  {
   "cell_type": "markdown",
   "metadata": {},
   "source": [
    "### Importando o pandas"
   ]
  },
  {
   "cell_type": "code",
   "execution_count": 2,
   "metadata": {},
   "outputs": [],
   "source": [
    "import pandas as pd"
   ]
  },
  {
   "cell_type": "markdown",
   "metadata": {},
   "source": [
    "### Criando um dataframe a partir de um dicionário"
   ]
  },
  {
   "cell_type": "code",
   "execution_count": null,
   "metadata": {},
   "outputs": [],
   "source": [
    "# dataframe = pd.DataFrame()\n",
    "venda = {'data': ['15/02/2021', '16/02/2021'],\n",
    "         'valor': [500, 300],\n",
    "         'produto': ['feijao', 'arroz'],\n",
    "         'qtde': [50, 70],\n",
    "        }\n",
    "vendas_df = pd.DataFrame(venda)\n",
    "display(vendas_df[['data', 'produto']])"
   ]
  },
  {
   "cell_type": "markdown",
   "metadata": {},
   "source": [
    "### Visualização dos Dados\n",
    "    - print\n",
    "    - display"
   ]
  },
  {
   "cell_type": "code",
   "execution_count": null,
   "metadata": {},
   "outputs": [],
   "source": [
    "print(vendas_df)"
   ]
  },
  {
   "cell_type": "markdown",
   "metadata": {},
   "source": [
    "### Importando arquivos e bases de dados"
   ]
  },
  {
   "cell_type": "code",
   "execution_count": null,
   "metadata": {},
   "outputs": [],
   "source": [
    "import pandas as pd\n",
    "vedas_df = pd.read_excel(\"Vendas.xlsx\")\n",
    "display(vedas_df)"
   ]
  },
  {
   "cell_type": "markdown",
   "metadata": {},
   "source": [
    "### Resumos de Visualização de Dados simples e úteis\n",
    "    - head\n",
    "    - shape\n",
    "    - describe"
   ]
  },
  {
   "cell_type": "code",
   "execution_count": null,
   "metadata": {},
   "outputs": [],
   "source": [
    "display(vedas_df.head(12))\n",
    "print(vedas_df.shape)\n",
    "display(vedas_df.describe())"
   ]
  },
  {
   "cell_type": "markdown",
   "metadata": {},
   "source": [
    "### Pegar 1 coluna (e os pd.Series)"
   ]
  },
  {
   "cell_type": "code",
   "execution_count": null,
   "metadata": {},
   "outputs": [],
   "source": [
    "produtos = vedas_df['Produto']\n",
    "display(produtos)\n",
    "produtosvalores_df = vedas_df[['Produto', 'Valor Unitário']]\n",
    "display(produtosvalores_df)"
   ]
  },
  {
   "cell_type": "markdown",
   "metadata": {},
   "source": [
    "### .loc, um método muito importante\n",
    "    - Pegar 1 linha\n",
    "    - Pegar linhas de acordo com alguma condição\n",
    "    - Pegar linhas e colunas específicas\n",
    "    - Pegar 1 valor específico"
   ]
  },
  {
   "cell_type": "code",
   "execution_count": null,
   "metadata": {},
   "outputs": [],
   "source": [
    "#display(vedas_df.loc[2])\n",
    "#-----uma linha\n",
    "\n",
    "#display(vedas_df.loc[1:6])\n",
    "#-----sequencia ou unicas\n",
    "\n",
    "#display(vedas_df.loc[vedas_df['ID Loja'] == 'Shopping Ibirapuera'])\n",
    "#Shopping_Ibirapuera_df = (vedas_df.loc[vedas_df['ID Loja'] == 'Shopping Ibirapuera'])\n",
    "#-----Uma linha ou coluna específica\n",
    "\n",
    "#Shopping_Ibirapuera_df = (vedas_df.loc[vedas_df['ID Loja'] == 'Shopping Ibirapuera', ['ID Loja', 'Produto', 'Data']])\n",
    "#display(Shopping_Ibirapuera_df)\n",
    "#-----escolher as linhas e colunas que vao aparecer;\n",
    "\n",
    "\n",
    "#display(vedas_df.loc[22, 'Produto'])\n",
    "#-----escolher valor específico"
   ]
  },
  {
   "cell_type": "markdown",
   "metadata": {},
   "source": [
    "### Adicionar 1 coluna"
   ]
  },
  {
   "cell_type": "code",
   "execution_count": null,
   "metadata": {},
   "outputs": [],
   "source": [
    "#A partir de uma ja existente:\n",
    "vedas_df['comissão']=vedas_df['Valor Final'] * 0.05\n",
    "display(vedas_df)\n",
    "#criar com valor padrão\n",
    "vedas_df.loc[:, 'imposto'] = 0\n",
    "display(vedas_df)"
   ]
  },
  {
   "cell_type": "markdown",
   "metadata": {},
   "source": [
    "### Adicionar 1 linha\n",
    "    - Linhas de um complemento da base de dados"
   ]
  },
  {
   "cell_type": "code",
   "execution_count": null,
   "metadata": {},
   "outputs": [],
   "source": [
    "#vendas_dezembro_df= pd.read_excel(\"Vendas - Dez.xlsx\")\n",
    "#display(vendas_dezembro_df)\n",
    "#vedas_df = pd.concat([vedas_df, vendas_dezembro_df], ignore_index=True)\n",
    "display(vedas_df)"
   ]
  },
  {
   "cell_type": "markdown",
   "metadata": {},
   "source": [
    "### Excluir linhas e colunas"
   ]
  },
  {
   "cell_type": "code",
   "execution_count": 14,
   "metadata": {},
   "outputs": [],
   "source": [
    "#vedas_df=vedas_df.drop(\"imposto\", axis=1) #axis=1: coluna, axis=0: linha\n",
    "#display(vedas_df)"
   ]
  },
  {
   "cell_type": "markdown",
   "metadata": {},
   "source": [
    "### Valores Vazios\n",
    "    - Deletar linhas/colunas vazias\n",
    "    - Deletar linhas que possuem valores vazios\n",
    "    - Preencher valores vazios (média e último valor)"
   ]
  },
  {
   "cell_type": "code",
   "execution_count": 15,
   "metadata": {},
   "outputs": [],
   "source": [
    "#NaN\n",
    "\n",
    "#Deletar colunas e linhas 100% vazias\n",
    "#vedas_df = vedas_df.dropna(how=\"all\", axis=1)\n",
    "\n",
    "#deletar linhas que possuem pelo menos um valor vazio\n",
    "#vedas_df = vedas_df.dropna()\n",
    "\n",
    "#preencher valores vazios (média dos valores)\n",
    "#vedas_df['comissão'] =vedas_df[\"comissão\"].fillna(vedas_df['comissão'].mean())\n",
    "\n",
    "#preencher com ultimo valor\n",
    "#vedas_df = vedas_df.ffill()"
   ]
  },
  {
   "cell_type": "markdown",
   "metadata": {},
   "source": [
    "### Calcular Indicadores\n",
    "    - Groupby\n",
    "    - Value Counts"
   ]
  },
  {
   "cell_type": "code",
   "execution_count": null,
   "metadata": {},
   "outputs": [],
   "source": [
    "#contagem de valores\n",
    "#transaçoes_loja=vedas_df['ID Loja'].value_counts()\n",
    "#display(transaçoes_loja)\n",
    "\n",
    "#agrupar informaçoes\n",
    "#Faturamento_produto = vedas_df[['Produto','Quantidade','Valor Final','Valor Unitário']].groupby('Produto').sum()\n",
    "#display(Faturamento_produto)\n",
    "#sum() = somar mean()= média, etc..."
   ]
  },
  {
   "cell_type": "markdown",
   "metadata": {},
   "source": [
    "### Mesclar 2 dataframes (Procurar informações de um dataframe em outro)"
   ]
  },
  {
   "cell_type": "code",
   "execution_count": null,
   "metadata": {},
   "outputs": [],
   "source": [
    "Gerente_df = pd.read_excel('Gerentes.xlsx')\n",
    "#display(Gerente_df)\n",
    "\n",
    "#quero a coluna \"Gerente\" na vedas_df\n",
    "vedas_df=vedas_df.merge(Gerente_df)\n",
    "#display(vedas_df)\n",
    "display(vedas_df[['ID Loja', 'Gerente']])"
   ]
  },
  {
   "cell_type": "markdown",
   "metadata": {},
   "source": [
    "### Como continuar aprendendo?\n",
    "\n",
    "### Minicurso Gratuito de Análise de Dados com Python na Descrição"
   ]
  }
 ],
 "metadata": {
  "kernelspec": {
   "display_name": "base",
   "language": "python",
   "name": "python3"
  },
  "language_info": {
   "codemirror_mode": {
    "name": "ipython",
    "version": 3
   },
   "file_extension": ".py",
   "mimetype": "text/x-python",
   "name": "python",
   "nbconvert_exporter": "python",
   "pygments_lexer": "ipython3",
   "version": "3.12.2"
  }
 },
 "nbformat": 4,
 "nbformat_minor": 4
}
