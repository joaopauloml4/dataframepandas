{
 "cells": [
  {
   "cell_type": "code",
   "execution_count": 2,
   "metadata": {},
   "outputs": [],
   "source": [
    "import pandas as pd"
   ]
  },
  {
   "cell_type": "code",
   "execution_count": 25,
   "metadata": {},
   "outputs": [
    {
     "name": "stdout",
     "output_type": "stream",
     "text": [
      "     B (cm)  H (cm) L (cm)    Madeira     I, J, K, L\n",
      "0         5      11     L   Perobinha   [0, 0, 0, 0]\n",
      "1         5      11     L   Perobinha   [0, 0, 0, 5]\n",
      "2         5      11     L   Perobinha  [0, 0, 0, 10]\n",
      "3         5      11     L   Perobinha  [0, 0, 0, 15]\n",
      "4         5      11     L   Perobinha  [0, 0, 0, 20]\n",
      "..      ...     ...    ...        ...            ...\n",
      "140       5      10      L          x            NaN\n",
      "141       5      35      L          x            NaN\n",
      "142      15      15      L          x            NaN\n",
      "143      20      20      L          x            NaN\n",
      "144       8      25      L          x            NaN\n",
      "\n",
      "[145 rows x 5 columns]\n",
      "     B (cm)  H (cm) L (cm)    Madeira        I, J, K, L\n",
      "0         5      11     L   Perobinha      [0, 0, 0, 0]\n",
      "1         5      11     L   Perobinha      [0, 0, 0, 5]\n",
      "2         5      11     L   Perobinha     [0, 0, 0, 10]\n",
      "3         5      11     L   Perobinha     [0, 0, 0, 15]\n",
      "4         5      11     L   Perobinha     [0, 0, 0, 20]\n",
      "..      ...     ...    ...        ...               ...\n",
      "121       5      11     L   Perobinha  [20, 20, 20, 20]\n",
      "122       5      11     L   Perobinha  [20, 20, 20, 25]\n",
      "123       5      11     L   Perobinha  [20, 20, 25, 25]\n",
      "124       5      11     L   Perobinha  [20, 25, 25, 25]\n",
      "125       5      11     L   Perobinha  [25, 25, 25, 25]\n",
      "\n",
      "[126 rows x 5 columns]\n"
     ]
    }
   ],
   "source": [
    "import pandas as pd\n",
    "furos_df = pd.read_excel(\"Bitolas+furos.xlsx\")\n",
    "e5x11_df = (furos_df.loc[furos_df['B (cm)'] == 5])\n",
    "e5x11_df = (furos_df[furos_df['H (cm)'] == 11])\n",
    "print(furos_df)\n",
    "print(e5x11_df)"
   ]
  }
 ],
 "metadata": {
  "kernelspec": {
   "display_name": "base",
   "language": "python",
   "name": "python3"
  },
  "language_info": {
   "codemirror_mode": {
    "name": "ipython",
    "version": 3
   },
   "file_extension": ".py",
   "mimetype": "text/x-python",
   "name": "python",
   "nbconvert_exporter": "python",
   "pygments_lexer": "ipython3",
   "version": "3.12.2"
  }
 },
 "nbformat": 4,
 "nbformat_minor": 2
}
